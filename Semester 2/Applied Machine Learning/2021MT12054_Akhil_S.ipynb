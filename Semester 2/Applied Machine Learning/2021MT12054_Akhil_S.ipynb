{
 "cells": [
  {
   "cell_type": "markdown",
   "id": "384c39e3",
   "metadata": {},
   "source": [
    "# Applied ML Assignment 1\n",
    "# Heart Attack Analaysis\n",
    "## Introduction\n",
    " A heart attack occurs when an artery supplying your heart with blood and oxygen becomes blocked. A blood clot can form and block your arteries, causing a heart attack. This Heart Attack Analysis helps to understand the chance of attack occurrence in persons based on varied health conditions.\n",
    "\n",
    "## Dataset\n",
    "The dataset is Heart_Attack_Analysis_Data.csv. It has been uploaded to elearn. \n",
    "This dataset contains data about some hundreds of patients mentioning: Age, Sex, Exercise Include Angina(1=YES, 0=NO), CP_Type (Chest Pain)(Value 1: typical angina, Value2: atypical angina, Value 3: non-anginal pain, Value 4: asymptomatic), ECG Results, Blood Pressure, Cholesterol, Blood Sugar, Family History (Number of persons affected in the family), Maximum Heart Rate, Target -0=LESS CHANCE , 1= MORE CHANCE\n",
    "\n",
    "## Aim\n",
    "- Building a Predictive Model using Naïve Bayesian Approach (Which features decide heart attack?)\n",
    "- Comment on the performance of this model using AUC-ROC, Precision, Recall, F_score, Accuracy\n",
    "\n",
    "You need to \n",
    "1. Preprocess the data to enhance quality\n",
    "2. Carry out descriptive summarization of data and make observations\n",
    "3. Identify relevant, irrelevant attributes for building model. \n",
    "4. Use data visualization tools and make observations\n",
    "5. Carry out the chosen analytic task. Show results including intermediate results, as needed\n",
    "6. Evaluate the solution\n",
    "\n",
    "Following are some points for you to take note of, while doing the assignment in Jupyter Notebook:\n",
    "- State all your assumptions clearly\n",
    "- List all intermediate steps and learnings\n",
    "- Mention your observations/findings"
   ]
  },
  {
   "cell_type": "markdown",
   "id": "46d7c7ee",
   "metadata": {},
   "source": [
    "## Submission:\n",
    "### Importing necessary packages"
   ]
  },
  {
   "cell_type": "code",
   "execution_count": 1,
   "id": "4727e226",
   "metadata": {},
   "outputs": [],
   "source": [
    "import numpy as np\n",
    "import pandas as pd\n",
    "import matplotlib.pyplot as plt\n",
    "import seaborn as sns\n",
    "import warnings\n",
    "from sklearn.preprocessing import RobustScaler, StandardScaler\n",
    "from sklearn.model_selection import train_test_split\n",
    "from sklearn.naive_bayes import GaussianNB\n",
    "from sklearn.metrics import accuracy_score, classification_report,recall_score,precision_score,f1_score,confusion_matrix,ConfusionMatrixDisplay,roc_curve,auc,precision_recall_curve\n",
    "warnings.filterwarnings('ignore')"
   ]
  },
  {
   "cell_type": "markdown",
   "id": "598c9a38",
   "metadata": {},
   "source": [
    "### Data Cleaning\n",
    "Check the shape of the dataframe loaded into memory from the CSV file and see the datatypes used in the dataset given"
   ]
  },
  {
   "cell_type": "code",
   "execution_count": 55,
   "id": "25186c30",
   "metadata": {
    "scrolled": false
   },
   "outputs": [
    {
     "name": "stdout",
     "output_type": "stream",
     "text": [
      "----------------------------------\n",
      "\n",
      "The data frame has:\n",
      "\n",
      "303 rows\n",
      "11 columns\n",
      "----------------------------------\n",
      "\n",
      "With following data types:\n",
      "\n",
      "<class 'pandas.core.frame.DataFrame'>\n",
      "RangeIndex: 303 entries, 0 to 302\n",
      "Data columns (total 11 columns):\n",
      " #   Column          Non-Null Count  Dtype\n",
      "---  ------          --------------  -----\n",
      " 0   Age             303 non-null    int64\n",
      " 1   Sex             303 non-null    int64\n",
      " 2   CP_Type         303 non-null    int64\n",
      " 3   BloodPressure   303 non-null    int64\n",
      " 4   Cholestrol      303 non-null    int64\n",
      " 5   BloodSugar      303 non-null    int64\n",
      " 6   ECG             303 non-null    int64\n",
      " 7   MaxHeartRate    303 non-null    int64\n",
      " 8   ExerciseAngina  303 non-null    int64\n",
      " 9   FamilyHistory   303 non-null    int64\n",
      " 10  Target          303 non-null    int64\n",
      "dtypes: int64(11)\n",
      "memory usage: 26.2 KB\n",
      "----------------------------------\n",
      "\n",
      "First 5 rows of data:\n",
      "\n"
     ]
    },
    {
     "data": {
      "text/html": [
       "<div>\n",
       "<style scoped>\n",
       "    .dataframe tbody tr th:only-of-type {\n",
       "        vertical-align: middle;\n",
       "    }\n",
       "\n",
       "    .dataframe tbody tr th {\n",
       "        vertical-align: top;\n",
       "    }\n",
       "\n",
       "    .dataframe thead th {\n",
       "        text-align: right;\n",
       "    }\n",
       "</style>\n",
       "<table border=\"1\" class=\"dataframe\">\n",
       "  <thead>\n",
       "    <tr style=\"text-align: right;\">\n",
       "      <th></th>\n",
       "      <th>Age</th>\n",
       "      <th>Sex</th>\n",
       "      <th>CP_Type</th>\n",
       "      <th>BloodPressure</th>\n",
       "      <th>Cholestrol</th>\n",
       "      <th>BloodSugar</th>\n",
       "      <th>ECG</th>\n",
       "      <th>MaxHeartRate</th>\n",
       "      <th>ExerciseAngina</th>\n",
       "      <th>FamilyHistory</th>\n",
       "      <th>Target</th>\n",
       "    </tr>\n",
       "  </thead>\n",
       "  <tbody>\n",
       "    <tr>\n",
       "      <th>0</th>\n",
       "      <td>63</td>\n",
       "      <td>1</td>\n",
       "      <td>3</td>\n",
       "      <td>145</td>\n",
       "      <td>233</td>\n",
       "      <td>1</td>\n",
       "      <td>0</td>\n",
       "      <td>150</td>\n",
       "      <td>0</td>\n",
       "      <td>2</td>\n",
       "      <td>1</td>\n",
       "    </tr>\n",
       "    <tr>\n",
       "      <th>1</th>\n",
       "      <td>37</td>\n",
       "      <td>1</td>\n",
       "      <td>2</td>\n",
       "      <td>130</td>\n",
       "      <td>250</td>\n",
       "      <td>0</td>\n",
       "      <td>1</td>\n",
       "      <td>187</td>\n",
       "      <td>0</td>\n",
       "      <td>1</td>\n",
       "      <td>1</td>\n",
       "    </tr>\n",
       "    <tr>\n",
       "      <th>2</th>\n",
       "      <td>41</td>\n",
       "      <td>0</td>\n",
       "      <td>1</td>\n",
       "      <td>130</td>\n",
       "      <td>204</td>\n",
       "      <td>0</td>\n",
       "      <td>0</td>\n",
       "      <td>172</td>\n",
       "      <td>0</td>\n",
       "      <td>0</td>\n",
       "      <td>1</td>\n",
       "    </tr>\n",
       "    <tr>\n",
       "      <th>3</th>\n",
       "      <td>56</td>\n",
       "      <td>1</td>\n",
       "      <td>1</td>\n",
       "      <td>120</td>\n",
       "      <td>236</td>\n",
       "      <td>0</td>\n",
       "      <td>1</td>\n",
       "      <td>178</td>\n",
       "      <td>0</td>\n",
       "      <td>1</td>\n",
       "      <td>1</td>\n",
       "    </tr>\n",
       "    <tr>\n",
       "      <th>4</th>\n",
       "      <td>-57</td>\n",
       "      <td>0</td>\n",
       "      <td>0</td>\n",
       "      <td>120</td>\n",
       "      <td>354</td>\n",
       "      <td>0</td>\n",
       "      <td>1</td>\n",
       "      <td>163</td>\n",
       "      <td>1</td>\n",
       "      <td>0</td>\n",
       "      <td>1</td>\n",
       "    </tr>\n",
       "  </tbody>\n",
       "</table>\n",
       "</div>"
      ],
      "text/plain": [
       "   Age  Sex  CP_Type  BloodPressure  Cholestrol  BloodSugar  ECG  \\\n",
       "0   63    1        3            145         233           1    0   \n",
       "1   37    1        2            130         250           0    1   \n",
       "2   41    0        1            130         204           0    0   \n",
       "3   56    1        1            120         236           0    1   \n",
       "4  -57    0        0            120         354           0    1   \n",
       "\n",
       "   MaxHeartRate  ExerciseAngina  FamilyHistory  Target  \n",
       "0           150               0              2       1  \n",
       "1           187               0              1       1  \n",
       "2           172               0              0       1  \n",
       "3           178               0              1       1  \n",
       "4           163               1              0       1  "
      ]
     },
     "execution_count": 55,
     "metadata": {},
     "output_type": "execute_result"
    }
   ],
   "source": [
    "df = pd.read_csv(\"C:/Users/akhil/Documents/Heart_Attack_Analysis_Data.csv\")\n",
    "df.head()\n",
    "dfShape = df.shape\n",
    "print(\"----------------------------------\")\n",
    "print(\"\\nThe data frame has:\\n\")\n",
    "print( str(dfShape[0]) + \" rows\")\n",
    "print( str(dfShape[1]) + \" columns\")\n",
    "print(\"----------------------------------\")\n",
    "print(\"\\nWith following data types:\\n\")\n",
    "df.info()\n",
    "print(\"----------------------------------\")\n",
    "print(\"\\nFirst 5 rows of data:\\n\")\n",
    "df.head()"
   ]
  },
  {
   "cell_type": "markdown",
   "id": "05a81293",
   "metadata": {},
   "source": [
    "All columns seems to be of type `integer` and all columns have a value (303 not null), which means that all values are filled and there are no missing values.\n",
    "\n",
    "Now to checking if any of the columns have data that is **negative valued**(Since values for columns such as age )"
   ]
  },
  {
   "cell_type": "code",
   "execution_count": 58,
   "id": "268d3d75",
   "metadata": {},
   "outputs": [
    {
     "name": "stdout",
     "output_type": "stream",
     "text": [
      "Column Age has negative values: True\n",
      "\n",
      "Column Sex has negative values: False\n",
      "\n",
      "Column CP_Type has negative values: False\n",
      "\n",
      "Column BloodPressure has negative values: False\n",
      "\n",
      "Column Cholestrol has negative values: False\n",
      "\n",
      "Column BloodSugar has negative values: False\n",
      "\n",
      "Column ECG has negative values: False\n",
      "\n",
      "Column MaxHeartRate has negative values: False\n",
      "\n",
      "Column ExerciseAngina has negative values: False\n",
      "\n",
      "Column FamilyHistory has negative values: False\n",
      "\n",
      "Column Target has negative values: False\n",
      "\n"
     ]
    }
   ],
   "source": [
    "for col in df:\n",
    "    print(\"Column \" + col + \" has negative values: \" + str((df[col] < 0).any()) + \"\\n\")\n",
    "            "
   ]
  },
  {
   "cell_type": "markdown",
   "id": "53df2eff",
   "metadata": {},
   "source": [
    "**None** of the values seems to be negative in the dataset provided to us"
   ]
  },
  {
   "cell_type": "markdown",
   "id": "492ac7f2",
   "metadata": {},
   "source": [
    "# Hello\n",
    "This is another normal paragraph\n",
    "- this is a list\n",
    "- this is another list item\n"
   ]
  },
  {
   "cell_type": "code",
   "execution_count": null,
   "id": "6b5c3dd7",
   "metadata": {},
   "outputs": [],
   "source": []
  }
 ],
 "metadata": {
  "kernelspec": {
   "display_name": "Python 3 (ipykernel)",
   "language": "python",
   "name": "python3"
  },
  "language_info": {
   "codemirror_mode": {
    "name": "ipython",
    "version": 3
   },
   "file_extension": ".py",
   "mimetype": "text/x-python",
   "name": "python",
   "nbconvert_exporter": "python",
   "pygments_lexer": "ipython3",
   "version": "3.9.7"
  }
 },
 "nbformat": 4,
 "nbformat_minor": 5
}
