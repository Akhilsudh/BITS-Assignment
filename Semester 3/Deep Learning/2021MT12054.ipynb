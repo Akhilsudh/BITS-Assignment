{
 "cells": [
  {
   "cell_type": "markdown",
   "id": "17ccaaab",
   "metadata": {
    "papermill": {
     "duration": 0.007184,
     "end_time": "2022-10-19T18:47:14.550938",
     "exception": false,
     "start_time": "2022-10-19T18:47:14.543754",
     "status": "completed"
    },
    "tags": []
   },
   "source": [
    "# Deep Learning Assignment 1\n",
    "## Submission by Akhil Sudhakaran 2021MT12054\n",
    "\n"
   ]
  },
  {
   "cell_type": "code",
   "execution_count": 1,
   "id": "d8f6ddc0",
   "metadata": {
    "execution": {
     "iopub.execute_input": "2022-10-19T18:47:14.566802Z",
     "iopub.status.busy": "2022-10-19T18:47:14.566210Z",
     "iopub.status.idle": "2022-10-19T18:47:23.218315Z",
     "shell.execute_reply": "2022-10-19T18:47:23.217342Z"
    },
    "papermill": {
     "duration": 8.664445,
     "end_time": "2022-10-19T18:47:23.221241",
     "exception": false,
     "start_time": "2022-10-19T18:47:14.556796",
     "status": "completed"
    },
    "tags": []
   },
   "outputs": [],
   "source": [
    "import gc\n",
    "import os\n",
    "import re\n",
    "import glob\n",
    "import keras\n",
    "import numpy  as np\n",
    "import pandas as pd\n",
    "import tensorflow as tf\n",
    "import plotly.express as px\n",
    "import matplotlib.pyplot as plt\n",
    "import tensorflow.keras.backend as K\n",
    "from sklearn.metrics                        import multilabel_confusion_matrix\n",
    "from sklearn.model_selection                import train_test_split\n",
    "from tensorflow.keras.models                import Sequential\n",
    "from tensorflow.keras.layers                import Dense, Dropout, GlobalMaxPooling2D\n",
    "from tensorflow.keras.callbacks             import ReduceLROnPlateau, ModelCheckpoint, EarlyStopping, CSVLogger\n",
    "from tensorflow.keras.optimizers            import Adam, SGD\n",
    "from tensorflow.keras.applications          import InceptionV3, MobileNetV2, MobileNetV3Large\n",
    "from tensorflow.keras.preprocessing         import image\n",
    "from tensorflow.keras.preprocessing.image   import ImageDataGenerator"
   ]
  },
  {
   "cell_type": "markdown",
   "id": "235db892",
   "metadata": {
    "papermill": {
     "duration": 0.005621,
     "end_time": "2022-10-19T18:47:23.233058",
     "exception": false,
     "start_time": "2022-10-19T18:47:23.227437",
     "status": "completed"
    },
    "tags": []
   },
   "source": [
    "## Creating training and test dataframes"
   ]
  },
  {
   "cell_type": "code",
   "execution_count": 2,
   "id": "822ce77f",
   "metadata": {
    "_cell_guid": "b1076dfc-b9ad-4769-8c92-a6c4dae69d19",
    "_uuid": "8f2839f25d086af736a60e9eeb907d3b93b6e0e5",
    "execution": {
     "iopub.execute_input": "2022-10-19T18:47:23.246989Z",
     "iopub.status.busy": "2022-10-19T18:47:23.246581Z",
     "iopub.status.idle": "2022-10-19T18:47:26.735045Z",
     "shell.execute_reply": "2022-10-19T18:47:26.733686Z"
    },
    "papermill": {
     "duration": 3.499091,
     "end_time": "2022-10-19T18:47:26.738059",
     "exception": false,
     "start_time": "2022-10-19T18:47:23.238968",
     "status": "completed"
    },
    "tags": []
   },
   "outputs": [
    {
     "data": {
      "text/html": [
       "<div>\n",
       "<style scoped>\n",
       "    .dataframe tbody tr th:only-of-type {\n",
       "        vertical-align: middle;\n",
       "    }\n",
       "\n",
       "    .dataframe tbody tr th {\n",
       "        vertical-align: top;\n",
       "    }\n",
       "\n",
       "    .dataframe thead th {\n",
       "        text-align: right;\n",
       "    }\n",
       "</style>\n",
       "<table border=\"1\" class=\"dataframe\">\n",
       "  <thead>\n",
       "    <tr style=\"text-align: right;\">\n",
       "      <th></th>\n",
       "      <th>index</th>\n",
       "      <th>FilePath</th>\n",
       "      <th>Class</th>\n",
       "    </tr>\n",
       "  </thead>\n",
       "  <tbody>\n",
       "    <tr>\n",
       "      <th>0</th>\n",
       "      <td>2551</td>\n",
       "      <td>/kaggle/input/deep-learning-sszg529-bits-pilan...</td>\n",
       "      <td>Other</td>\n",
       "    </tr>\n",
       "    <tr>\n",
       "      <th>1</th>\n",
       "      <td>3391</td>\n",
       "      <td>/kaggle/input/deep-learning-sszg529-bits-pilan...</td>\n",
       "      <td>Happiness</td>\n",
       "    </tr>\n",
       "    <tr>\n",
       "      <th>2</th>\n",
       "      <td>1777</td>\n",
       "      <td>/kaggle/input/deep-learning-sszg529-bits-pilan...</td>\n",
       "      <td>Other</td>\n",
       "    </tr>\n",
       "    <tr>\n",
       "      <th>3</th>\n",
       "      <td>5987</td>\n",
       "      <td>/kaggle/input/deep-learning-sszg529-bits-pilan...</td>\n",
       "      <td>Anger</td>\n",
       "    </tr>\n",
       "    <tr>\n",
       "      <th>4</th>\n",
       "      <td>1055</td>\n",
       "      <td>/kaggle/input/deep-learning-sszg529-bits-pilan...</td>\n",
       "      <td>Other</td>\n",
       "    </tr>\n",
       "    <tr>\n",
       "      <th>...</th>\n",
       "      <td>...</td>\n",
       "      <td>...</td>\n",
       "      <td>...</td>\n",
       "    </tr>\n",
       "    <tr>\n",
       "      <th>8176</th>\n",
       "      <td>8021</td>\n",
       "      <td>/kaggle/input/deep-learning-sszg529-bits-pilan...</td>\n",
       "      <td>Anger</td>\n",
       "    </tr>\n",
       "    <tr>\n",
       "      <th>8177</th>\n",
       "      <td>2252</td>\n",
       "      <td>/kaggle/input/deep-learning-sszg529-bits-pilan...</td>\n",
       "      <td>Other</td>\n",
       "    </tr>\n",
       "    <tr>\n",
       "      <th>8178</th>\n",
       "      <td>4910</td>\n",
       "      <td>/kaggle/input/deep-learning-sszg529-bits-pilan...</td>\n",
       "      <td>Anger</td>\n",
       "    </tr>\n",
       "    <tr>\n",
       "      <th>8179</th>\n",
       "      <td>8140</td>\n",
       "      <td>/kaggle/input/deep-learning-sszg529-bits-pilan...</td>\n",
       "      <td>Anger</td>\n",
       "    </tr>\n",
       "    <tr>\n",
       "      <th>8180</th>\n",
       "      <td>454</td>\n",
       "      <td>/kaggle/input/deep-learning-sszg529-bits-pilan...</td>\n",
       "      <td>Surprise</td>\n",
       "    </tr>\n",
       "  </tbody>\n",
       "</table>\n",
       "<p>8181 rows × 3 columns</p>\n",
       "</div>"
      ],
      "text/plain": [
       "      index                                           FilePath      Class\n",
       "0      2551  /kaggle/input/deep-learning-sszg529-bits-pilan...      Other\n",
       "1      3391  /kaggle/input/deep-learning-sszg529-bits-pilan...  Happiness\n",
       "2      1777  /kaggle/input/deep-learning-sszg529-bits-pilan...      Other\n",
       "3      5987  /kaggle/input/deep-learning-sszg529-bits-pilan...      Anger\n",
       "4      1055  /kaggle/input/deep-learning-sszg529-bits-pilan...      Other\n",
       "...     ...                                                ...        ...\n",
       "8176   8021  /kaggle/input/deep-learning-sszg529-bits-pilan...      Anger\n",
       "8177   2252  /kaggle/input/deep-learning-sszg529-bits-pilan...      Other\n",
       "8178   4910  /kaggle/input/deep-learning-sszg529-bits-pilan...      Anger\n",
       "8179   8140  /kaggle/input/deep-learning-sszg529-bits-pilan...      Anger\n",
       "8180    454  /kaggle/input/deep-learning-sszg529-bits-pilan...   Surprise\n",
       "\n",
       "[8181 rows x 3 columns]"
      ]
     },
     "execution_count": 2,
     "metadata": {},
     "output_type": "execute_result"
    }
   ],
   "source": [
    "temp = []\n",
    "for dirname, _, filenames in os.walk('/kaggle/input/deep-learning-sszg529-bits-pilani/train_data/train_data/'):\n",
    "    for filename in filenames:\n",
    "        filePath = os.path.join(dirname, filename)\n",
    "        if(dirname == '/kaggle/input/deep-learning-sszg529-bits-pilani/train_data/train_data/Happiness'):\n",
    "            temp.append({'FilePath': filePath, 'Class': \"Happiness\"})\n",
    "        elif(dirname == '/kaggle/input/deep-learning-sszg529-bits-pilani/train_data/train_data/Other'):\n",
    "            temp.append({'FilePath': filePath, 'Class': \"Other\"})\n",
    "        elif(dirname == '/kaggle/input/deep-learning-sszg529-bits-pilani/train_data/train_data/Anger'):\n",
    "            temp.append({'FilePath': filePath, 'Class': \"Anger\"})\n",
    "        elif(dirname == '/kaggle/input/deep-learning-sszg529-bits-pilani/train_data/train_data/Contempt'):\n",
    "            temp.append({'FilePath': filePath, 'Class': \"Contempt\"})\n",
    "        elif(dirname == '/kaggle/input/deep-learning-sszg529-bits-pilani/train_data/train_data/Surprise'):\n",
    "            temp.append({'FilePath': filePath, 'Class': \"Surprise\"})\n",
    "\n",
    "Data = pd.DataFrame(temp).sample(frac = 1).reset_index()\n",
    "Data"
   ]
  },
  {
   "cell_type": "markdown",
   "id": "62b68851",
   "metadata": {
    "papermill": {
     "duration": 0.00616,
     "end_time": "2022-10-19T18:47:26.751193",
     "exception": false,
     "start_time": "2022-10-19T18:47:26.745033",
     "status": "completed"
    },
    "tags": []
   },
   "source": [
    "## Training data class distribution"
   ]
  },
  {
   "cell_type": "code",
   "execution_count": 3,
   "id": "5b3eeb92",
   "metadata": {
    "execution": {
     "iopub.execute_input": "2022-10-19T18:47:26.766413Z",
     "iopub.status.busy": "2022-10-19T18:47:26.766013Z",
     "iopub.status.idle": "2022-10-19T18:47:26.784219Z",
     "shell.execute_reply": "2022-10-19T18:47:26.783016Z"
    },
    "papermill": {
     "duration": 0.029115,
     "end_time": "2022-10-19T18:47:26.786697",
     "exception": false,
     "start_time": "2022-10-19T18:47:26.757582",
     "status": "completed"
    },
    "tags": []
   },
   "outputs": [
    {
     "data": {
      "text/html": [
       "<div>\n",
       "<style scoped>\n",
       "    .dataframe tbody tr th:only-of-type {\n",
       "        vertical-align: middle;\n",
       "    }\n",
       "\n",
       "    .dataframe tbody tr th {\n",
       "        vertical-align: top;\n",
       "    }\n",
       "\n",
       "    .dataframe thead th {\n",
       "        text-align: right;\n",
       "    }\n",
       "</style>\n",
       "<table border=\"1\" class=\"dataframe\">\n",
       "  <thead>\n",
       "    <tr style=\"text-align: right;\">\n",
       "      <th></th>\n",
       "      <th>index</th>\n",
       "      <th>Class</th>\n",
       "    </tr>\n",
       "  </thead>\n",
       "  <tbody>\n",
       "    <tr>\n",
       "      <th>0</th>\n",
       "      <td>Anger</td>\n",
       "      <td>3362</td>\n",
       "    </tr>\n",
       "    <tr>\n",
       "      <th>1</th>\n",
       "      <td>Other</td>\n",
       "      <td>1702</td>\n",
       "    </tr>\n",
       "    <tr>\n",
       "      <th>2</th>\n",
       "      <td>Happiness</td>\n",
       "      <td>1550</td>\n",
       "    </tr>\n",
       "    <tr>\n",
       "      <th>3</th>\n",
       "      <td>Surprise</td>\n",
       "      <td>850</td>\n",
       "    </tr>\n",
       "    <tr>\n",
       "      <th>4</th>\n",
       "      <td>Contempt</td>\n",
       "      <td>717</td>\n",
       "    </tr>\n",
       "  </tbody>\n",
       "</table>\n",
       "</div>"
      ],
      "text/plain": [
       "       index  Class\n",
       "0      Anger   3362\n",
       "1      Other   1702\n",
       "2  Happiness   1550\n",
       "3   Surprise    850\n",
       "4   Contempt    717"
      ]
     },
     "execution_count": 3,
     "metadata": {},
     "output_type": "execute_result"
    }
   ],
   "source": [
    "label_count_df = pd.DataFrame(Data['Class'].value_counts()).reset_index()\n",
    "label_count_df"
   ]
  },
  {
   "cell_type": "code",
   "execution_count": 4,
   "id": "ca3fc1ec",
   "metadata": {
    "execution": {
     "iopub.execute_input": "2022-10-19T18:47:26.802636Z",
     "iopub.status.busy": "2022-10-19T18:47:26.801840Z",
     "iopub.status.idle": "2022-10-19T18:47:28.764070Z",
     "shell.execute_reply": "2022-10-19T18:47:28.762880Z"
    },
    "papermill": {
     "duration": 1.972952,
     "end_time": "2022-10-19T18:47:28.766327",
     "exception": false,
     "start_time": "2022-10-19T18:47:26.793375",
     "status": "completed"
    },
    "tags": []
   },
   "outputs": [
    {
     "data": {
      "text/html": [
       "<div>\n",
       "<style scoped>\n",
       "    .dataframe tbody tr th:only-of-type {\n",
       "        vertical-align: middle;\n",
       "    }\n",
       "\n",
       "    .dataframe tbody tr th {\n",
       "        vertical-align: top;\n",
       "    }\n",
       "\n",
       "    .dataframe thead th {\n",
       "        text-align: right;\n",
       "    }\n",
       "</style>\n",
       "<table border=\"1\" class=\"dataframe\">\n",
       "  <thead>\n",
       "    <tr style=\"text-align: right;\">\n",
       "      <th></th>\n",
       "      <th>FilePath</th>\n",
       "    </tr>\n",
       "  </thead>\n",
       "  <tbody>\n",
       "    <tr>\n",
       "      <th>0</th>\n",
       "      <td>/kaggle/input/deep-learning-sszg529-bits-pilan...</td>\n",
       "    </tr>\n",
       "    <tr>\n",
       "      <th>1</th>\n",
       "      <td>/kaggle/input/deep-learning-sszg529-bits-pilan...</td>\n",
       "    </tr>\n",
       "    <tr>\n",
       "      <th>2</th>\n",
       "      <td>/kaggle/input/deep-learning-sszg529-bits-pilan...</td>\n",
       "    </tr>\n",
       "    <tr>\n",
       "      <th>3</th>\n",
       "      <td>/kaggle/input/deep-learning-sszg529-bits-pilan...</td>\n",
       "    </tr>\n",
       "    <tr>\n",
       "      <th>4</th>\n",
       "      <td>/kaggle/input/deep-learning-sszg529-bits-pilan...</td>\n",
       "    </tr>\n",
       "    <tr>\n",
       "      <th>...</th>\n",
       "      <td>...</td>\n",
       "    </tr>\n",
       "    <tr>\n",
       "      <th>1938</th>\n",
       "      <td>/kaggle/input/deep-learning-sszg529-bits-pilan...</td>\n",
       "    </tr>\n",
       "    <tr>\n",
       "      <th>1939</th>\n",
       "      <td>/kaggle/input/deep-learning-sszg529-bits-pilan...</td>\n",
       "    </tr>\n",
       "    <tr>\n",
       "      <th>1940</th>\n",
       "      <td>/kaggle/input/deep-learning-sszg529-bits-pilan...</td>\n",
       "    </tr>\n",
       "    <tr>\n",
       "      <th>1941</th>\n",
       "      <td>/kaggle/input/deep-learning-sszg529-bits-pilan...</td>\n",
       "    </tr>\n",
       "    <tr>\n",
       "      <th>1942</th>\n",
       "      <td>/kaggle/input/deep-learning-sszg529-bits-pilan...</td>\n",
       "    </tr>\n",
       "  </tbody>\n",
       "</table>\n",
       "<p>1943 rows × 1 columns</p>\n",
       "</div>"
      ],
      "text/plain": [
       "                                               FilePath\n",
       "0     /kaggle/input/deep-learning-sszg529-bits-pilan...\n",
       "1     /kaggle/input/deep-learning-sszg529-bits-pilan...\n",
       "2     /kaggle/input/deep-learning-sszg529-bits-pilan...\n",
       "3     /kaggle/input/deep-learning-sszg529-bits-pilan...\n",
       "4     /kaggle/input/deep-learning-sszg529-bits-pilan...\n",
       "...                                                 ...\n",
       "1938  /kaggle/input/deep-learning-sszg529-bits-pilan...\n",
       "1939  /kaggle/input/deep-learning-sszg529-bits-pilan...\n",
       "1940  /kaggle/input/deep-learning-sszg529-bits-pilan...\n",
       "1941  /kaggle/input/deep-learning-sszg529-bits-pilan...\n",
       "1942  /kaggle/input/deep-learning-sszg529-bits-pilan...\n",
       "\n",
       "[1943 rows x 1 columns]"
      ]
     },
     "execution_count": 4,
     "metadata": {},
     "output_type": "execute_result"
    }
   ],
   "source": [
    "temp = []\n",
    "for dirname, _, filenames in os.walk('/kaggle/input/deep-learning-sszg529-bits-pilani/test_data/test_data/'):\n",
    "    for filename in filenames:\n",
    "        temp.append({'FilePath': os.path.join(dirname, filename)})\n",
    "\n",
    "predictionData = pd.DataFrame(temp)\n",
    "predictionData"
   ]
  },
  {
   "cell_type": "markdown",
   "id": "6e98c13b",
   "metadata": {
    "papermill": {
     "duration": 0.006871,
     "end_time": "2022-10-19T18:47:28.779892",
     "exception": false,
     "start_time": "2022-10-19T18:47:28.773021",
     "status": "completed"
    },
    "tags": []
   },
   "source": [
    "## Configurable params"
   ]
  },
  {
   "cell_type": "code",
   "execution_count": 5,
   "id": "666c9906",
   "metadata": {
    "execution": {
     "iopub.execute_input": "2022-10-19T18:47:28.795166Z",
     "iopub.status.busy": "2022-10-19T18:47:28.794418Z",
     "iopub.status.idle": "2022-10-19T18:47:28.798730Z",
     "shell.execute_reply": "2022-10-19T18:47:28.797946Z"
    },
    "papermill": {
     "duration": 0.014627,
     "end_time": "2022-10-19T18:47:28.800796",
     "exception": false,
     "start_time": "2022-10-19T18:47:28.786169",
     "status": "completed"
    },
    "tags": []
   },
   "outputs": [],
   "source": [
    "batch_size = 32\n",
    "image_size_x = 229\n",
    "image_size_y = 229\n",
    "epochs     = 50"
   ]
  },
  {
   "cell_type": "code",
   "execution_count": 6,
   "id": "f9a98463",
   "metadata": {
    "execution": {
     "iopub.execute_input": "2022-10-19T18:47:28.815177Z",
     "iopub.status.busy": "2022-10-19T18:47:28.814743Z",
     "iopub.status.idle": "2022-10-19T18:47:28.821288Z",
     "shell.execute_reply": "2022-10-19T18:47:28.820564Z"
    },
    "papermill": {
     "duration": 0.016174,
     "end_time": "2022-10-19T18:47:28.823242",
     "exception": false,
     "start_time": "2022-10-19T18:47:28.807068",
     "status": "completed"
    },
    "tags": []
   },
   "outputs": [],
   "source": [
    "train, test = train_test_split(\n",
    "                    Data,\n",
    "                    test_size = 0.2\n",
    "                )"
   ]
  },
  {
   "cell_type": "code",
   "execution_count": 7,
   "id": "85392590",
   "metadata": {
    "execution": {
     "iopub.execute_input": "2022-10-19T18:47:28.837901Z",
     "iopub.status.busy": "2022-10-19T18:47:28.837188Z",
     "iopub.status.idle": "2022-10-19T18:47:28.842290Z",
     "shell.execute_reply": "2022-10-19T18:47:28.841584Z"
    },
    "papermill": {
     "duration": 0.014648,
     "end_time": "2022-10-19T18:47:28.844211",
     "exception": false,
     "start_time": "2022-10-19T18:47:28.829563",
     "status": "completed"
    },
    "tags": []
   },
   "outputs": [],
   "source": [
    "train_generator = ImageDataGenerator(\n",
    "                        rescale     = 1./255,\n",
    "                        zoom_range  = 0.1,\n",
    "                        fill_mode='nearest',\n",
    "                        horizontal_flip = True\n",
    "                    )\n",
    "\n",
    "test_generator = ImageDataGenerator(rescale=1./255)"
   ]
  },
  {
   "cell_type": "code",
   "execution_count": 8,
   "id": "788e9ba7",
   "metadata": {
    "execution": {
     "iopub.execute_input": "2022-10-19T18:47:28.858833Z",
     "iopub.status.busy": "2022-10-19T18:47:28.858151Z",
     "iopub.status.idle": "2022-10-19T18:47:32.564342Z",
     "shell.execute_reply": "2022-10-19T18:47:32.563077Z"
    },
    "papermill": {
     "duration": 3.716468,
     "end_time": "2022-10-19T18:47:32.567183",
     "exception": false,
     "start_time": "2022-10-19T18:47:28.850715",
     "status": "completed"
    },
    "tags": []
   },
   "outputs": [
    {
     "name": "stdout",
     "output_type": "stream",
     "text": [
      "Found 6544 validated image filenames belonging to 5 classes.\n",
      "Found 1637 validated image filenames belonging to 5 classes.\n"
     ]
    }
   ],
   "source": [
    "train_gen = train_generator.flow_from_dataframe(\n",
    "                                    dataframe   = train,\n",
    "                                    class_mode  = 'categorical',\n",
    "                                    x_col       = 'FilePath',\n",
    "                                    y_col       = 'Class',\n",
    "                                    shuffle     = True,\n",
    "                                    weight_col  = None,\n",
    "                                    batch_size  = batch_size,\n",
    "                                    target_size = (image_size_x, image_size_y),\n",
    "                                    seed        = None\n",
    "                                )\n",
    "\n",
    "test_gen  = test_generator.flow_from_dataframe(\n",
    "                                    dataframe   = test,\n",
    "                                    class_mode  = 'categorical',\n",
    "                                    x_col       = 'FilePath',\n",
    "                                    y_col       = 'Class',\n",
    "                                    shuffle     = False,\n",
    "                                    batch_size  = batch_size,\n",
    "                                    weight_col  = None,\n",
    "                                    target_size = (image_size_x, image_size_y),\n",
    "                                    seed        = None\n",
    "                                )"
   ]
  },
  {
   "cell_type": "markdown",
   "id": "9081492a",
   "metadata": {
    "papermill": {
     "duration": 0.006165,
     "end_time": "2022-10-19T18:47:32.581209",
     "exception": false,
     "start_time": "2022-10-19T18:47:32.575044",
     "status": "completed"
    },
    "tags": []
   },
   "source": [
    "## Model\n",
    "The model looks something like this:\n",
    "\n",
    "**[Resized_Input_Image] -> [InceptionV3_Convolution_Layer_with_imagenet] -> [2D_Max_Pooling] -> [Fully_Connected_Classifier_with_Softmax]**\n",
    "\n",
    "Notes on model training:\n",
    "\n",
    "Dropout to reduce overfitting since earlier runs on training sample gave less accuracy\n",
    "Adam optimizer for better convergence\n",
    "Categorical crossentropy since we are doing a multiclass classification\n",
    "Using GPU to accelerate since CPU was too slow"
   ]
  },
  {
   "cell_type": "code",
   "execution_count": 9,
   "id": "d0f56384",
   "metadata": {
    "execution": {
     "iopub.execute_input": "2022-10-19T18:47:32.595681Z",
     "iopub.status.busy": "2022-10-19T18:47:32.595254Z",
     "iopub.status.idle": "2022-10-19T18:47:36.061512Z",
     "shell.execute_reply": "2022-10-19T18:47:36.060156Z"
    },
    "papermill": {
     "duration": 3.476436,
     "end_time": "2022-10-19T18:47:36.063959",
     "exception": false,
     "start_time": "2022-10-19T18:47:32.587523",
     "status": "completed"
    },
    "tags": []
   },
   "outputs": [
    {
     "name": "stderr",
     "output_type": "stream",
     "text": [
      "2022-10-19 18:47:32.660920: I tensorflow/core/common_runtime/process_util.cc:146] Creating new thread pool with default inter op setting: 2. Tune using inter_op_parallelism_threads for best performance.\n"
     ]
    },
    {
     "name": "stdout",
     "output_type": "stream",
     "text": [
      "Downloading data from https://storage.googleapis.com/tensorflow/keras-applications/inception_v3/inception_v3_weights_tf_dim_ordering_tf_kernels_notop.h5\n",
      "87916544/87910968 [==============================] - 0s 0us/step\n",
      "87924736/87910968 [==============================] - 0s 0us/step\n",
      "Model: \"sequential\"\n",
      "_________________________________________________________________\n",
      "Layer (type)                 Output Shape              Param #   \n",
      "=================================================================\n",
      "inception_v3 (Functional)    (None, 5, 5, 2048)        21802784  \n",
      "_________________________________________________________________\n",
      "global_max_pooling2d (Global (None, 2048)              0         \n",
      "_________________________________________________________________\n",
      "dropout (Dropout)            (None, 2048)              0         \n",
      "_________________________________________________________________\n",
      "dense (Dense)                (None, 1024)              2098176   \n",
      "_________________________________________________________________\n",
      "dense_1 (Dense)              (None, 5)                 5125      \n",
      "=================================================================\n",
      "Total params: 23,906,085\n",
      "Trainable params: 13,218,181\n",
      "Non-trainable params: 10,687,904\n",
      "_________________________________________________________________\n"
     ]
    }
   ],
   "source": [
    "conv_net = InceptionV3(input_shape=(image_size_x, image_size_y, 3), weights='imagenet', include_top=False)\n",
    "# Freezing layers\n",
    "for layer in conv_net.layers[:249]:\n",
    "    layer.trainable = False\n",
    "for layer in conv_net.layers[249:]:\n",
    "    layer.trainable = True\n",
    "\n",
    "model = Sequential()\n",
    "model.add(conv_net)\n",
    "model.add(GlobalMaxPooling2D())\n",
    "model.add(Dropout(0.3))\n",
    "model.add(Dense(1024, activation='relu'))\n",
    "model.add(Dense(5,activation='softmax'))\n",
    "model.compile(optimizer=Adam(learning_rate=1e-4), loss='categorical_crossentropy', metrics=['accuracy'])\n",
    "model.summary()"
   ]
  },
  {
   "cell_type": "markdown",
   "id": "6c71631a",
   "metadata": {
    "papermill": {
     "duration": 0.007118,
     "end_time": "2022-10-19T18:47:36.078643",
     "exception": false,
     "start_time": "2022-10-19T18:47:36.071525",
     "status": "completed"
    },
    "tags": []
   },
   "source": [
    "## Model Training"
   ]
  },
  {
   "cell_type": "code",
   "execution_count": 10,
   "id": "7d6e55a4",
   "metadata": {
    "execution": {
     "iopub.execute_input": "2022-10-19T18:47:36.095672Z",
     "iopub.status.busy": "2022-10-19T18:47:36.094669Z",
     "iopub.status.idle": "2022-10-20T02:29:12.246402Z",
     "shell.execute_reply": "2022-10-20T02:29:12.244919Z"
    },
    "papermill": {
     "duration": 27696.16319,
     "end_time": "2022-10-20T02:29:12.249154",
     "exception": false,
     "start_time": "2022-10-19T18:47:36.085964",
     "status": "completed"
    },
    "tags": []
   },
   "outputs": [
    {
     "name": "stderr",
     "output_type": "stream",
     "text": [
      "2022-10-19 18:47:37.722678: I tensorflow/compiler/mlir/mlir_graph_optimization_pass.cc:185] None of the MLIR Optimization Passes are enabled (registered 2)\n"
     ]
    },
    {
     "name": "stdout",
     "output_type": "stream",
     "text": [
      "Epoch 1/50\n",
      "205/205 [==============================] - 537s 3s/step - loss: 0.7675 - accuracy: 0.7286\n",
      "Epoch 2/50\n",
      "205/205 [==============================] - 502s 2s/step - loss: 0.3883 - accuracy: 0.8524\n",
      "Epoch 3/50\n",
      "205/205 [==============================] - 501s 2s/step - loss: 0.2586 - accuracy: 0.8972\n",
      "Epoch 4/50\n",
      "205/205 [==============================] - 503s 2s/step - loss: 0.2137 - accuracy: 0.9213\n",
      "Epoch 5/50\n",
      "205/205 [==============================] - 503s 2s/step - loss: 0.1873 - accuracy: 0.9306\n",
      "Epoch 6/50\n",
      "205/205 [==============================] - 512s 2s/step - loss: 0.1339 - accuracy: 0.9496\n",
      "Epoch 7/50\n",
      "205/205 [==============================] - 516s 3s/step - loss: 0.1228 - accuracy: 0.9531\n",
      "Epoch 8/50\n",
      "205/205 [==============================] - 505s 2s/step - loss: 0.1085 - accuracy: 0.9619\n",
      "Epoch 9/50\n",
      "205/205 [==============================] - 504s 2s/step - loss: 0.1215 - accuracy: 0.9539\n",
      "Epoch 10/50\n",
      "205/205 [==============================] - 514s 3s/step - loss: 0.1294 - accuracy: 0.9577\n",
      "Epoch 11/50\n",
      "205/205 [==============================] - 511s 2s/step - loss: 0.0849 - accuracy: 0.9699\n",
      "Epoch 12/50\n",
      "205/205 [==============================] - 522s 3s/step - loss: 0.0850 - accuracy: 0.9682\n",
      "Epoch 13/50\n",
      "205/205 [==============================] - 507s 2s/step - loss: 0.0853 - accuracy: 0.9705\n",
      "Epoch 14/50\n",
      "205/205 [==============================] - 510s 2s/step - loss: 0.0642 - accuracy: 0.9760\n",
      "Epoch 15/50\n",
      "205/205 [==============================] - 514s 3s/step - loss: 0.0679 - accuracy: 0.9752\n",
      "Epoch 16/50\n",
      "205/205 [==============================] - 514s 3s/step - loss: 0.0562 - accuracy: 0.9814\n",
      "Epoch 17/50\n",
      "205/205 [==============================] - 518s 3s/step - loss: 0.0833 - accuracy: 0.9717\n",
      "Epoch 18/50\n",
      "205/205 [==============================] - 513s 2s/step - loss: 0.0511 - accuracy: 0.9844\n",
      "Epoch 19/50\n",
      "205/205 [==============================] - 514s 3s/step - loss: 0.0592 - accuracy: 0.9812\n",
      "Epoch 20/50\n",
      "205/205 [==============================] - 504s 2s/step - loss: 0.0460 - accuracy: 0.9841\n",
      "Epoch 21/50\n",
      "205/205 [==============================] - 506s 2s/step - loss: 0.0436 - accuracy: 0.9844\n",
      "Epoch 22/50\n",
      "205/205 [==============================] - 524s 3s/step - loss: 0.0598 - accuracy: 0.9818\n",
      "Epoch 23/50\n",
      "205/205 [==============================] - 510s 2s/step - loss: 0.0377 - accuracy: 0.9872\n",
      "Epoch 24/50\n",
      "205/205 [==============================] - 521s 3s/step - loss: 0.0532 - accuracy: 0.9832\n",
      "Epoch 25/50\n",
      "205/205 [==============================] - 518s 3s/step - loss: 0.0619 - accuracy: 0.9786\n",
      "Epoch 26/50\n",
      "205/205 [==============================] - 516s 3s/step - loss: 0.0466 - accuracy: 0.9846\n",
      "Epoch 27/50\n",
      "205/205 [==============================] - 518s 3s/step - loss: 0.0340 - accuracy: 0.9901\n",
      "Epoch 28/50\n",
      "205/205 [==============================] - 521s 3s/step - loss: 0.0356 - accuracy: 0.9881\n",
      "Epoch 29/50\n",
      "205/205 [==============================] - 515s 3s/step - loss: 0.0516 - accuracy: 0.9835\n",
      "Epoch 30/50\n",
      "205/205 [==============================] - 512s 2s/step - loss: 0.0496 - accuracy: 0.9843\n",
      "Epoch 31/50\n",
      "205/205 [==============================] - 507s 2s/step - loss: 0.0545 - accuracy: 0.9847\n",
      "Epoch 32/50\n",
      "205/205 [==============================] - 509s 2s/step - loss: 0.0318 - accuracy: 0.9893\n",
      "Epoch 33/50\n",
      "205/205 [==============================] - 537s 3s/step - loss: 0.0452 - accuracy: 0.9858\n",
      "Epoch 34/50\n",
      "205/205 [==============================] - 521s 3s/step - loss: 0.0464 - accuracy: 0.9856\n",
      "Epoch 35/50\n",
      "205/205 [==============================] - 543s 3s/step - loss: 0.0299 - accuracy: 0.9908\n",
      "Epoch 36/50\n",
      "205/205 [==============================] - 523s 3s/step - loss: 0.0341 - accuracy: 0.9882\n",
      "Epoch 37/50\n",
      "205/205 [==============================] - 528s 3s/step - loss: 0.0311 - accuracy: 0.9907\n",
      "Epoch 38/50\n",
      "205/205 [==============================] - 536s 3s/step - loss: 0.0292 - accuracy: 0.9904\n",
      "Epoch 39/50\n",
      "205/205 [==============================] - 540s 3s/step - loss: 0.0452 - accuracy: 0.9867\n",
      "Epoch 40/50\n",
      "205/205 [==============================] - 538s 3s/step - loss: 0.0327 - accuracy: 0.9896\n",
      "Epoch 41/50\n",
      "205/205 [==============================] - 536s 3s/step - loss: 0.0457 - accuracy: 0.9855\n",
      "Epoch 42/50\n",
      "205/205 [==============================] - 506s 2s/step - loss: 0.0329 - accuracy: 0.9896\n",
      "Epoch 43/50\n",
      "205/205 [==============================] - 511s 2s/step - loss: 0.0387 - accuracy: 0.9879\n",
      "Epoch 44/50\n",
      "205/205 [==============================] - 527s 3s/step - loss: 0.0380 - accuracy: 0.9887\n",
      "Epoch 45/50\n",
      "205/205 [==============================] - 517s 3s/step - loss: 0.0327 - accuracy: 0.9901\n",
      "Epoch 46/50\n",
      "205/205 [==============================] - 518s 3s/step - loss: 0.0195 - accuracy: 0.9937\n",
      "Epoch 47/50\n",
      "205/205 [==============================] - 536s 3s/step - loss: 0.0356 - accuracy: 0.9887\n",
      "Epoch 48/50\n",
      "205/205 [==============================] - 531s 3s/step - loss: 0.0231 - accuracy: 0.9939\n",
      "Epoch 49/50\n",
      "205/205 [==============================] - 521s 3s/step - loss: 0.0364 - accuracy: 0.9898\n",
      "Epoch 50/50\n",
      "205/205 [==============================] - 514s 3s/step - loss: 0.0298 - accuracy: 0.9914\n"
     ]
    }
   ],
   "source": [
    "training_hist = model.fit(\n",
    "                    train_gen,\n",
    "                    epochs = epochs,\n",
    "                )"
   ]
  },
  {
   "cell_type": "markdown",
   "id": "a92d9cf2",
   "metadata": {
    "papermill": {
     "duration": 0.639928,
     "end_time": "2022-10-20T02:29:13.533072",
     "exception": false,
     "start_time": "2022-10-20T02:29:12.893144",
     "status": "completed"
    },
    "tags": []
   },
   "source": [
    "#### Evaluating model on validation data"
   ]
  },
  {
   "cell_type": "code",
   "execution_count": 11,
   "id": "320611f5",
   "metadata": {
    "execution": {
     "iopub.execute_input": "2022-10-20T02:29:14.916332Z",
     "iopub.status.busy": "2022-10-20T02:29:14.915655Z",
     "iopub.status.idle": "2022-10-20T02:30:52.113923Z",
     "shell.execute_reply": "2022-10-20T02:30:52.112699Z"
    },
    "papermill": {
     "duration": 98.471069,
     "end_time": "2022-10-20T02:30:52.751217",
     "exception": false,
     "start_time": "2022-10-20T02:29:14.280148",
     "status": "completed"
    },
    "tags": []
   },
   "outputs": [
    {
     "name": "stderr",
     "output_type": "stream",
     "text": [
      "/opt/conda/lib/python3.7/site-packages/keras/engine/training.py:2006: UserWarning: `Model.evaluate_generator` is deprecated and will be removed in a future version. Please use `Model.evaluate`, which supports generators.\n",
      "  warnings.warn('`Model.evaluate_generator` is deprecated and '\n"
     ]
    },
    {
     "name": "stdout",
     "output_type": "stream",
     "text": [
      "Training data categorical accuracy = 99.45%\n"
     ]
    }
   ],
   "source": [
    "results = model.evaluate_generator(test_gen)\n",
    "print(\"Training data categorical accuracy = {}%\".format(round(results[1]*100,2)))"
   ]
  },
  {
   "cell_type": "markdown",
   "id": "290e062f",
   "metadata": {
    "papermill": {
     "duration": 0.634407,
     "end_time": "2022-10-20T02:30:54.018865",
     "exception": false,
     "start_time": "2022-10-20T02:30:53.384458",
     "status": "completed"
    },
    "tags": []
   },
   "source": [
    "#### Consufsion matrix on validation data predictions"
   ]
  },
  {
   "cell_type": "code",
   "execution_count": 12,
   "id": "774bacb7",
   "metadata": {
    "execution": {
     "iopub.execute_input": "2022-10-20T02:30:55.425093Z",
     "iopub.status.busy": "2022-10-20T02:30:55.424665Z",
     "iopub.status.idle": "2022-10-20T02:32:30.868444Z",
     "shell.execute_reply": "2022-10-20T02:32:30.867087Z"
    },
    "papermill": {
     "duration": 96.858985,
     "end_time": "2022-10-20T02:32:31.517438",
     "exception": false,
     "start_time": "2022-10-20T02:30:54.658453",
     "status": "completed"
    },
    "tags": []
   },
   "outputs": [
    {
     "name": "stderr",
     "output_type": "stream",
     "text": [
      "/opt/conda/lib/python3.7/site-packages/keras/engine/training.py:2035: UserWarning: `Model.predict_generator` is deprecated and will be removed in a future version. Please use `Model.predict`, which supports generators.\n",
      "  warnings.warn('`Model.predict_generator` is deprecated and '\n"
     ]
    },
    {
     "data": {
      "text/html": [
       "        <script type=\"text/javascript\">\n",
       "        window.PlotlyConfig = {MathJaxConfig: 'local'};\n",
       "        if (window.MathJax && window.MathJax.Hub && window.MathJax.Hub.Config) {window.MathJax.Hub.Config({SVG: {font: \"STIX-Web\"}});}\n",
       "        if (typeof require !== 'undefined') {\n",
       "        require.undef(\"plotly\");\n",
       "        requirejs.config({\n",
       "            paths: {\n",
       "                'plotly': ['https://cdn.plot.ly/plotly-2.14.0.min']\n",
       "            }\n",
       "        });\n",
       "        require(['plotly'], function(Plotly) {\n",
       "            window._Plotly = Plotly;\n",
       "        });\n",
       "        }\n",
       "        </script>\n",
       "        "
      ]
     },
     "metadata": {},
     "output_type": "display_data"
    },
    {
     "data": {
      "text/html": [
       "<div>                            <div id=\"705c1086-0306-4952-832c-b360e499c85f\" class=\"plotly-graph-div\" style=\"height:525px; width:100%;\"></div>            <script type=\"text/javascript\">                require([\"plotly\"], function(Plotly) {                    window.PLOTLYENV=window.PLOTLYENV || {};                                    if (document.getElementById(\"705c1086-0306-4952-832c-b360e499c85f\")) {                    Plotly.newPlot(                        \"705c1086-0306-4952-832c-b360e499c85f\",                        [{\"coloraxis\":\"coloraxis\",\"name\":\"0\",\"z\":[[6539,9],[9,1628]],\"type\":\"heatmap\",\"xaxis\":\"x\",\"yaxis\":\"y\",\"hovertemplate\":\"x: %{x}<br>y: %{y}<br>color: %{z}<extra></extra>\"}],                        {\"template\":{\"data\":{\"histogram2dcontour\":[{\"type\":\"histogram2dcontour\",\"colorbar\":{\"outlinewidth\":0,\"ticks\":\"\"},\"colorscale\":[[0.0,\"#0d0887\"],[0.1111111111111111,\"#46039f\"],[0.2222222222222222,\"#7201a8\"],[0.3333333333333333,\"#9c179e\"],[0.4444444444444444,\"#bd3786\"],[0.5555555555555556,\"#d8576b\"],[0.6666666666666666,\"#ed7953\"],[0.7777777777777778,\"#fb9f3a\"],[0.8888888888888888,\"#fdca26\"],[1.0,\"#f0f921\"]]}],\"choropleth\":[{\"type\":\"choropleth\",\"colorbar\":{\"outlinewidth\":0,\"ticks\":\"\"}}],\"histogram2d\":[{\"type\":\"histogram2d\",\"colorbar\":{\"outlinewidth\":0,\"ticks\":\"\"},\"colorscale\":[[0.0,\"#0d0887\"],[0.1111111111111111,\"#46039f\"],[0.2222222222222222,\"#7201a8\"],[0.3333333333333333,\"#9c179e\"],[0.4444444444444444,\"#bd3786\"],[0.5555555555555556,\"#d8576b\"],[0.6666666666666666,\"#ed7953\"],[0.7777777777777778,\"#fb9f3a\"],[0.8888888888888888,\"#fdca26\"],[1.0,\"#f0f921\"]]}],\"heatmap\":[{\"type\":\"heatmap\",\"colorbar\":{\"outlinewidth\":0,\"ticks\":\"\"},\"colorscale\":[[0.0,\"#0d0887\"],[0.1111111111111111,\"#46039f\"],[0.2222222222222222,\"#7201a8\"],[0.3333333333333333,\"#9c179e\"],[0.4444444444444444,\"#bd3786\"],[0.5555555555555556,\"#d8576b\"],[0.6666666666666666,\"#ed7953\"],[0.7777777777777778,\"#fb9f3a\"],[0.8888888888888888,\"#fdca26\"],[1.0,\"#f0f921\"]]}],\"heatmapgl\":[{\"type\":\"heatmapgl\",\"colorbar\":{\"outlinewidth\":0,\"ticks\":\"\"},\"colorscale\":[[0.0,\"#0d0887\"],[0.1111111111111111,\"#46039f\"],[0.2222222222222222,\"#7201a8\"],[0.3333333333333333,\"#9c179e\"],[0.4444444444444444,\"#bd3786\"],[0.5555555555555556,\"#d8576b\"],[0.6666666666666666,\"#ed7953\"],[0.7777777777777778,\"#fb9f3a\"],[0.8888888888888888,\"#fdca26\"],[1.0,\"#f0f921\"]]}],\"contourcarpet\":[{\"type\":\"contourcarpet\",\"colorbar\":{\"outlinewidth\":0,\"ticks\":\"\"}}],\"contour\":[{\"type\":\"contour\",\"colorbar\":{\"outlinewidth\":0,\"ticks\":\"\"},\"colorscale\":[[0.0,\"#0d0887\"],[0.1111111111111111,\"#46039f\"],[0.2222222222222222,\"#7201a8\"],[0.3333333333333333,\"#9c179e\"],[0.4444444444444444,\"#bd3786\"],[0.5555555555555556,\"#d8576b\"],[0.6666666666666666,\"#ed7953\"],[0.7777777777777778,\"#fb9f3a\"],[0.8888888888888888,\"#fdca26\"],[1.0,\"#f0f921\"]]}],\"surface\":[{\"type\":\"surface\",\"colorbar\":{\"outlinewidth\":0,\"ticks\":\"\"},\"colorscale\":[[0.0,\"#0d0887\"],[0.1111111111111111,\"#46039f\"],[0.2222222222222222,\"#7201a8\"],[0.3333333333333333,\"#9c179e\"],[0.4444444444444444,\"#bd3786\"],[0.5555555555555556,\"#d8576b\"],[0.6666666666666666,\"#ed7953\"],[0.7777777777777778,\"#fb9f3a\"],[0.8888888888888888,\"#fdca26\"],[1.0,\"#f0f921\"]]}],\"mesh3d\":[{\"type\":\"mesh3d\",\"colorbar\":{\"outlinewidth\":0,\"ticks\":\"\"}}],\"scatter\":[{\"fillpattern\":{\"fillmode\":\"overlay\",\"size\":10,\"solidity\":0.2},\"type\":\"scatter\"}],\"parcoords\":[{\"type\":\"parcoords\",\"line\":{\"colorbar\":{\"outlinewidth\":0,\"ticks\":\"\"}}}],\"scatterpolargl\":[{\"type\":\"scatterpolargl\",\"marker\":{\"colorbar\":{\"outlinewidth\":0,\"ticks\":\"\"}}}],\"bar\":[{\"error_x\":{\"color\":\"#2a3f5f\"},\"error_y\":{\"color\":\"#2a3f5f\"},\"marker\":{\"line\":{\"color\":\"#E5ECF6\",\"width\":0.5},\"pattern\":{\"fillmode\":\"overlay\",\"size\":10,\"solidity\":0.2}},\"type\":\"bar\"}],\"scattergeo\":[{\"type\":\"scattergeo\",\"marker\":{\"colorbar\":{\"outlinewidth\":0,\"ticks\":\"\"}}}],\"scatterpolar\":[{\"type\":\"scatterpolar\",\"marker\":{\"colorbar\":{\"outlinewidth\":0,\"ticks\":\"\"}}}],\"histogram\":[{\"marker\":{\"pattern\":{\"fillmode\":\"overlay\",\"size\":10,\"solidity\":0.2}},\"type\":\"histogram\"}],\"scattergl\":[{\"type\":\"scattergl\",\"marker\":{\"colorbar\":{\"outlinewidth\":0,\"ticks\":\"\"}}}],\"scatter3d\":[{\"type\":\"scatter3d\",\"line\":{\"colorbar\":{\"outlinewidth\":0,\"ticks\":\"\"}},\"marker\":{\"colorbar\":{\"outlinewidth\":0,\"ticks\":\"\"}}}],\"scattermapbox\":[{\"type\":\"scattermapbox\",\"marker\":{\"colorbar\":{\"outlinewidth\":0,\"ticks\":\"\"}}}],\"scatterternary\":[{\"type\":\"scatterternary\",\"marker\":{\"colorbar\":{\"outlinewidth\":0,\"ticks\":\"\"}}}],\"scattercarpet\":[{\"type\":\"scattercarpet\",\"marker\":{\"colorbar\":{\"outlinewidth\":0,\"ticks\":\"\"}}}],\"carpet\":[{\"aaxis\":{\"endlinecolor\":\"#2a3f5f\",\"gridcolor\":\"white\",\"linecolor\":\"white\",\"minorgridcolor\":\"white\",\"startlinecolor\":\"#2a3f5f\"},\"baxis\":{\"endlinecolor\":\"#2a3f5f\",\"gridcolor\":\"white\",\"linecolor\":\"white\",\"minorgridcolor\":\"white\",\"startlinecolor\":\"#2a3f5f\"},\"type\":\"carpet\"}],\"table\":[{\"cells\":{\"fill\":{\"color\":\"#EBF0F8\"},\"line\":{\"color\":\"white\"}},\"header\":{\"fill\":{\"color\":\"#C8D4E3\"},\"line\":{\"color\":\"white\"}},\"type\":\"table\"}],\"barpolar\":[{\"marker\":{\"line\":{\"color\":\"#E5ECF6\",\"width\":0.5},\"pattern\":{\"fillmode\":\"overlay\",\"size\":10,\"solidity\":0.2}},\"type\":\"barpolar\"}],\"pie\":[{\"automargin\":true,\"type\":\"pie\"}]},\"layout\":{\"autotypenumbers\":\"strict\",\"colorway\":[\"#636efa\",\"#EF553B\",\"#00cc96\",\"#ab63fa\",\"#FFA15A\",\"#19d3f3\",\"#FF6692\",\"#B6E880\",\"#FF97FF\",\"#FECB52\"],\"font\":{\"color\":\"#2a3f5f\"},\"hovermode\":\"closest\",\"hoverlabel\":{\"align\":\"left\"},\"paper_bgcolor\":\"white\",\"plot_bgcolor\":\"#E5ECF6\",\"polar\":{\"bgcolor\":\"#E5ECF6\",\"angularaxis\":{\"gridcolor\":\"white\",\"linecolor\":\"white\",\"ticks\":\"\"},\"radialaxis\":{\"gridcolor\":\"white\",\"linecolor\":\"white\",\"ticks\":\"\"}},\"ternary\":{\"bgcolor\":\"#E5ECF6\",\"aaxis\":{\"gridcolor\":\"white\",\"linecolor\":\"white\",\"ticks\":\"\"},\"baxis\":{\"gridcolor\":\"white\",\"linecolor\":\"white\",\"ticks\":\"\"},\"caxis\":{\"gridcolor\":\"white\",\"linecolor\":\"white\",\"ticks\":\"\"}},\"coloraxis\":{\"colorbar\":{\"outlinewidth\":0,\"ticks\":\"\"}},\"colorscale\":{\"sequential\":[[0.0,\"#0d0887\"],[0.1111111111111111,\"#46039f\"],[0.2222222222222222,\"#7201a8\"],[0.3333333333333333,\"#9c179e\"],[0.4444444444444444,\"#bd3786\"],[0.5555555555555556,\"#d8576b\"],[0.6666666666666666,\"#ed7953\"],[0.7777777777777778,\"#fb9f3a\"],[0.8888888888888888,\"#fdca26\"],[1.0,\"#f0f921\"]],\"sequentialminus\":[[0.0,\"#0d0887\"],[0.1111111111111111,\"#46039f\"],[0.2222222222222222,\"#7201a8\"],[0.3333333333333333,\"#9c179e\"],[0.4444444444444444,\"#bd3786\"],[0.5555555555555556,\"#d8576b\"],[0.6666666666666666,\"#ed7953\"],[0.7777777777777778,\"#fb9f3a\"],[0.8888888888888888,\"#fdca26\"],[1.0,\"#f0f921\"]],\"diverging\":[[0,\"#8e0152\"],[0.1,\"#c51b7d\"],[0.2,\"#de77ae\"],[0.3,\"#f1b6da\"],[0.4,\"#fde0ef\"],[0.5,\"#f7f7f7\"],[0.6,\"#e6f5d0\"],[0.7,\"#b8e186\"],[0.8,\"#7fbc41\"],[0.9,\"#4d9221\"],[1,\"#276419\"]]},\"xaxis\":{\"gridcolor\":\"white\",\"linecolor\":\"white\",\"ticks\":\"\",\"title\":{\"standoff\":15},\"zerolinecolor\":\"white\",\"automargin\":true,\"zerolinewidth\":2},\"yaxis\":{\"gridcolor\":\"white\",\"linecolor\":\"white\",\"ticks\":\"\",\"title\":{\"standoff\":15},\"zerolinecolor\":\"white\",\"automargin\":true,\"zerolinewidth\":2},\"scene\":{\"xaxis\":{\"backgroundcolor\":\"#E5ECF6\",\"gridcolor\":\"white\",\"linecolor\":\"white\",\"showbackground\":true,\"ticks\":\"\",\"zerolinecolor\":\"white\",\"gridwidth\":2},\"yaxis\":{\"backgroundcolor\":\"#E5ECF6\",\"gridcolor\":\"white\",\"linecolor\":\"white\",\"showbackground\":true,\"ticks\":\"\",\"zerolinecolor\":\"white\",\"gridwidth\":2},\"zaxis\":{\"backgroundcolor\":\"#E5ECF6\",\"gridcolor\":\"white\",\"linecolor\":\"white\",\"showbackground\":true,\"ticks\":\"\",\"zerolinecolor\":\"white\",\"gridwidth\":2}},\"shapedefaults\":{\"line\":{\"color\":\"#2a3f5f\"}},\"annotationdefaults\":{\"arrowcolor\":\"#2a3f5f\",\"arrowhead\":0,\"arrowwidth\":1},\"geo\":{\"bgcolor\":\"white\",\"landcolor\":\"#E5ECF6\",\"subunitcolor\":\"white\",\"showland\":true,\"showlakes\":true,\"lakecolor\":\"white\"},\"title\":{\"x\":0.05},\"mapbox\":{\"style\":\"light\"}}},\"xaxis\":{\"anchor\":\"y\",\"domain\":[0.0,1.0],\"scaleanchor\":\"y\",\"constrain\":\"domain\"},\"yaxis\":{\"anchor\":\"x\",\"domain\":[0.0,1.0],\"autorange\":\"reversed\",\"constrain\":\"domain\"},\"coloraxis\":{\"colorscale\":[[0.0,\"rgb(196, 230, 195)\"],[0.16666666666666666,\"rgb(150, 210, 164)\"],[0.3333333333333333,\"rgb(109, 188, 144)\"],[0.5,\"rgb(77, 162, 132)\"],[0.6666666666666666,\"rgb(54, 135, 122)\"],[0.8333333333333334,\"rgb(38, 107, 110)\"],[1.0,\"rgb(29, 79, 96)\"]]},\"margin\":{\"t\":60},\"title\":{\"text\":\"Confusion Matrix\",\"x\":0.5}},                        {\"responsive\": true}                    ).then(function(){\n",
       "                            \n",
       "var gd = document.getElementById('705c1086-0306-4952-832c-b360e499c85f');\n",
       "var x = new MutationObserver(function (mutations, observer) {{\n",
       "        var display = window.getComputedStyle(gd).display;\n",
       "        if (!display || display === 'none') {{\n",
       "            console.log([gd, 'removed!']);\n",
       "            Plotly.purge(gd);\n",
       "            observer.disconnect();\n",
       "        }}\n",
       "}});\n",
       "\n",
       "// Listen for the removal of the full notebook cells\n",
       "var notebookContainer = gd.closest('#notebook-container');\n",
       "if (notebookContainer) {{\n",
       "    x.observe(notebookContainer, {childList: true});\n",
       "}}\n",
       "\n",
       "// Listen for the clearing of the current output cell\n",
       "var outputEl = gd.closest('.output');\n",
       "if (outputEl) {{\n",
       "    x.observe(outputEl, {childList: true});\n",
       "}}\n",
       "\n",
       "                        })                };                });            </script>        </div>"
      ]
     },
     "metadata": {},
     "output_type": "display_data"
    }
   ],
   "source": [
    "testSetPred = model.predict_generator(test_gen)\n",
    "confusion_matrix = np.sum(multilabel_confusion_matrix(pd.get_dummies(test['Class']), testSetPred >= 0.5),axis=0)\n",
    "fig = px.imshow(confusion_matrix, color_continuous_scale = px.colors.sequential.Blugrn)\n",
    "fig.update_layout(title_text='Confusion Matrix', title_x=0.5)\n",
    "fig.show()"
   ]
  },
  {
   "cell_type": "markdown",
   "id": "c527ab3c",
   "metadata": {
    "papermill": {
     "duration": 0.635068,
     "end_time": "2022-10-20T02:32:32.800750",
     "exception": false,
     "start_time": "2022-10-20T02:32:32.165682",
     "status": "completed"
    },
    "tags": []
   },
   "source": [
    "## Predict for a single image"
   ]
  },
  {
   "cell_type": "code",
   "execution_count": 13,
   "id": "4dccb5b5",
   "metadata": {
    "execution": {
     "iopub.execute_input": "2022-10-20T02:32:34.201792Z",
     "iopub.status.busy": "2022-10-20T02:32:34.201391Z",
     "iopub.status.idle": "2022-10-20T02:32:34.206740Z",
     "shell.execute_reply": "2022-10-20T02:32:34.205703Z"
    },
    "papermill": {
     "duration": 0.777673,
     "end_time": "2022-10-20T02:32:34.209067",
     "exception": false,
     "start_time": "2022-10-20T02:32:33.431394",
     "status": "completed"
    },
    "tags": []
   },
   "outputs": [],
   "source": [
    "# img = image.load_img('/kaggle/input/deep-learning-sszg529-bits-pilani/test_data/test_data/test_1080.jpg', target_size=(image_size_x, image_size_y))\n",
    "# x = image.img_to_array(img)\n",
    "# x = np.expand_dims(x, axis=0)\n",
    "# x /= 255\n",
    "# prob = model.predict(x)\n",
    "# pred = prob.argmax(axis=-1)\n",
    "# predClass = list(classes.keys())[list(classes.values()).index(pred)]\n",
    "# print(predClass)"
   ]
  },
  {
   "cell_type": "markdown",
   "id": "6557ab8c",
   "metadata": {
    "papermill": {
     "duration": 0.631975,
     "end_time": "2022-10-20T02:32:35.485295",
     "exception": false,
     "start_time": "2022-10-20T02:32:34.853320",
     "status": "completed"
    },
    "tags": []
   },
   "source": [
    "## Predict all test data\n",
    "#### Creating the prediction result data frame"
   ]
  },
  {
   "cell_type": "code",
   "execution_count": 14,
   "id": "32d90229",
   "metadata": {
    "execution": {
     "iopub.execute_input": "2022-10-20T02:32:36.761863Z",
     "iopub.status.busy": "2022-10-20T02:32:36.760993Z",
     "iopub.status.idle": "2022-10-20T02:37:52.102276Z",
     "shell.execute_reply": "2022-10-20T02:37:52.101090Z"
    },
    "papermill": {
     "duration": 315.985238,
     "end_time": "2022-10-20T02:37:52.105033",
     "exception": false,
     "start_time": "2022-10-20T02:32:36.119795",
     "status": "completed"
    },
    "tags": []
   },
   "outputs": [],
   "source": [
    "classes = train_gen.class_indices\n",
    "testDf = pd.read_csv('/kaggle/input/deep-learning-sszg529-bits-pilani/test.csv')\n",
    "temp = []\n",
    "for dirname, _, filenames in os.walk('/kaggle/input/deep-learning-sszg529-bits-pilani/test_data/test_data/'):\n",
    "    for filename in filenames:\n",
    "        filePath = os.path.join(dirname, filename)\n",
    "        img = image.load_img(filePath, target_size=(image_size_x, image_size_y))\n",
    "        x = image.img_to_array(img)\n",
    "        x = np.expand_dims(x, axis=0)\n",
    "        x /= 255\n",
    "        prob = model.predict(x)\n",
    "        pred = prob.argmax(axis=-1)\n",
    "        predClass = list(classes.keys())[list(classes.values()).index(pred)]\n",
    "        if(predClass == 'Happiness'):\n",
    "            temp.append({'Id': testDf.loc[testDf['Filename'] == filename, 'Id'].values[0], 'Class': 1})\n",
    "        elif(predClass == 'Other'):\n",
    "            temp.append({'Id': testDf.loc[testDf['Filename'] == filename, 'Id'].values[0], 'Class': 2})\n",
    "        elif(predClass == 'Anger'):\n",
    "            temp.append({'Id': testDf.loc[testDf['Filename'] == filename, 'Id'].values[0], 'Class': 3})\n",
    "        elif(predClass == 'Contempt'):\n",
    "            temp.append({'Id': testDf.loc[testDf['Filename'] == filename, 'Id'].values[0], 'Class': 4})\n",
    "        elif(predClass == 'Surprise'):\n",
    "            temp.append({'Id': testDf.loc[testDf['Filename'] == filename, 'Id'].values[0], 'Class': 5})\n",
    "predDf = pd.DataFrame(temp)"
   ]
  },
  {
   "cell_type": "markdown",
   "id": "78c68263",
   "metadata": {
    "papermill": {
     "duration": 0.657665,
     "end_time": "2022-10-20T02:37:53.521921",
     "exception": false,
     "start_time": "2022-10-20T02:37:52.864256",
     "status": "completed"
    },
    "tags": []
   },
   "source": [
    "#### Save final predictions to CSV"
   ]
  },
  {
   "cell_type": "code",
   "execution_count": 15,
   "id": "7e181109",
   "metadata": {
    "execution": {
     "iopub.execute_input": "2022-10-20T02:37:54.794027Z",
     "iopub.status.busy": "2022-10-20T02:37:54.793628Z",
     "iopub.status.idle": "2022-10-20T02:37:54.804138Z",
     "shell.execute_reply": "2022-10-20T02:37:54.803159Z"
    },
    "papermill": {
     "duration": 0.648248,
     "end_time": "2022-10-20T02:37:54.806469",
     "exception": false,
     "start_time": "2022-10-20T02:37:54.158221",
     "status": "completed"
    },
    "tags": []
   },
   "outputs": [],
   "source": [
    "predDf.to_csv('submission.csv', index=False)"
   ]
  }
 ],
 "metadata": {
  "kernelspec": {
   "display_name": "Python 3",
   "language": "python",
   "name": "python3"
  },
  "language_info": {
   "codemirror_mode": {
    "name": "ipython",
    "version": 3
   },
   "file_extension": ".py",
   "mimetype": "text/x-python",
   "name": "python",
   "nbconvert_exporter": "python",
   "pygments_lexer": "ipython3",
   "version": "3.7.12"
  },
  "papermill": {
   "default_parameters": {},
   "duration": 28254.050528,
   "end_time": "2022-10-20T02:37:58.397789",
   "environment_variables": {},
   "exception": null,
   "input_path": "__notebook__.ipynb",
   "output_path": "__notebook__.ipynb",
   "parameters": {},
   "start_time": "2022-10-19T18:47:04.347261",
   "version": "2.3.4"
  }
 },
 "nbformat": 4,
 "nbformat_minor": 5
}
